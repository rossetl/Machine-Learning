{
 "cells": [
  {
   "cell_type": "markdown",
   "metadata": {},
   "source": [
    "# Clothes Classification with Neural Networks\n",
    "\n",
    "In this notebook we are going to use the Neural Networks for image classification. We are going to use the same dataset of Lab 2 on SVM: Fashion MNIST (https://pravarmahajan.github.io/fashion/), a dataset of small images of clothes and accessories.\n",
    "\n",
    "The dataset labels are the following:\n",
    "\n",
    "| Label | Description |\n",
    "| --- | --- |\n",
    "| 0 | T-shirt/top |\n",
    "| 1 | Trouser |\n",
    "| 2 | Pullover |\n",
    "| 3 | Dress |\n",
    "| 4 | Coat |\n",
    "| 5 | Sandal |\n",
    "| 6 | Shirt |\n",
    "| 7 | Sneaker |\n",
    "| 8 | Bag |\n",
    "| 9 | Ankle boot |"
   ]
  },
  {
   "cell_type": "code",
   "execution_count": 1,
   "metadata": {},
   "outputs": [
    {
     "name": "stdout",
     "output_type": "stream",
     "text": [
      "scikit-learn version:  0.23.2\n"
     ]
    }
   ],
   "source": [
    "#load the required packages and check Scikit-learn version\n",
    "\n",
    "%matplotlib inline  \n",
    "\n",
    "import numpy as np\n",
    "import scipy as sp\n",
    "import matplotlib.pyplot as plt\n",
    "import pandas as pd\n",
    "\n",
    "import sklearn\n",
    "print ('scikit-learn version: ', sklearn.__version__)\n",
    "from sklearn.neural_network import MLPClassifier\n",
    "from sklearn.model_selection import GridSearchCV\n",
    "from sklearn.svm import SVC"
   ]
  },
  {
   "cell_type": "code",
   "execution_count": 2,
   "metadata": {},
   "outputs": [],
   "source": [
    "# helper function to load Fashion MNIST dataset from disk\n",
    "def load_mnist(path, kind='train'):\n",
    "    import os\n",
    "    import gzip\n",
    "    import numpy as np\n",
    "    labels_path = os.path.join(path, '%s-labels-idx1-ubyte.gz' % kind)\n",
    "    images_path = os.path.join(path, '%s-images-idx3-ubyte.gz' % kind)\n",
    "    with gzip.open(labels_path, 'rb') as lbpath:\n",
    "        labels = np.frombuffer(lbpath.read(), dtype=np.uint8,offset=8)\n",
    "    with gzip.open(images_path, 'rb') as imgpath:\n",
    "        images = np.frombuffer(imgpath.read(), dtype=np.uint8,offset=16).reshape(len(labels), 784)\n",
    "    return images, labels"
   ]
  },
  {
   "cell_type": "markdown",
   "metadata": {},
   "source": [
    "# TODO \n",
    "Place a seed for the random generator (you can use your \"numero di matricola\"). Try to change the seed to see the impact of the randomization."
   ]
  },
  {
   "cell_type": "code",
   "execution_count": 3,
   "metadata": {},
   "outputs": [],
   "source": [
    "ID = 2021861\n",
    "np.random.seed(ID)"
   ]
  },
  {
   "cell_type": "code",
   "execution_count": 4,
   "metadata": {},
   "outputs": [
    {
     "name": "stdout",
     "output_type": "stream",
     "text": [
      "Number of samples in the MNIST dataset: 60000\n"
     ]
    }
   ],
   "source": [
    "#load the MNIST dataset and let's normalize the features so that each value is in [0,1]\n",
    "X, y = load_mnist(\"data\")\n",
    "print(\"Number of samples in the MNIST dataset:\", X.shape[0])\n",
    "# rescale the data\n",
    "X = X / 255.0"
   ]
  },
  {
   "cell_type": "markdown",
   "metadata": {},
   "source": [
    "Now split into training and test. We start with a small training set of 600 samples to reduce computation time while 4000 samples will be used for testing. Make sure that each label is present at least 10 times in train and test set frequencies."
   ]
  },
  {
   "cell_type": "code",
   "execution_count": 5,
   "metadata": {},
   "outputs": [
    {
     "name": "stdout",
     "output_type": "stream",
     "text": [
      "Labels in training dataset:  [0 1 2 3 4 5 6 7 8 9]\n",
      "Frequencies in training dataset:  [57 65 56 51 64 59 53 63 70 62]\n",
      "Labels in test set:  [0 1 2 3 4 5 6 7 8 9]\n",
      "Frequencies in test set:  [57 65 56 51 64 59 53 63 70 62]\n"
     ]
    }
   ],
   "source": [
    "#random permute the data and split into training and test taking the first 600\n",
    "#data samples as training and 4000 as test set\n",
    "permutation = np.random.permutation(X.shape[0])\n",
    "\n",
    "X = X[permutation]\n",
    "y = y[permutation]\n",
    "\n",
    "m_training = 600\n",
    "m_test = 4000\n",
    "\n",
    "X_train, X_test = X[:m_training], X[m_training:m_training+m_test]\n",
    "y_train, y_test = y[:m_training], y[m_training:m_training+m_test]\n",
    "\n",
    "labels, freqs = np.unique(y_train, return_counts=True)\n",
    "print(\"Labels in training dataset: \", labels)\n",
    "print(\"Frequencies in training dataset: \", freqs)\n",
    "\n",
    "labelsT, freqsT = np.unique(y_test, return_counts=True)\n",
    "print(\"Labels in test set: \", labels)\n",
    "print(\"Frequencies in test set: \", freqs)\n"
   ]
  },
  {
   "cell_type": "code",
   "execution_count": 6,
   "metadata": {},
   "outputs": [],
   "source": [
    "#function for plotting a image and printing the corresponding label\n",
    "def plot_input(X_matrix, labels, index):\n",
    "    print(\"INPUT:\")\n",
    "    plt.imshow(\n",
    "        X_matrix[index].reshape(28,28),\n",
    "        cmap          = plt.cm.gray_r,\n",
    "        interpolation = \"nearest\"\n",
    "    )\n",
    "    plt.show()\n",
    "    print(\"LABEL: %i\"%labels[index])\n",
    "    return"
   ]
  },
  {
   "cell_type": "code",
   "execution_count": 7,
   "metadata": {},
   "outputs": [
    {
     "name": "stdout",
     "output_type": "stream",
     "text": [
      "INPUT:\n"
     ]
    },
    {
     "data": {
      "image/png": "[encoded data removed]",
      "text/plain": [
       "<Figure size 432x288 with 1 Axes>"
      ]
     },
     "metadata": {
      "needs_background": "light"
     },
     "output_type": "display_data"
    },
    {
     "name": "stdout",
     "output_type": "stream",
     "text": [
      "LABEL: 7\n",
      "INPUT:\n"
     ]
    },
    {
     "data": {
      "image/png": "[encoded data removed]",
      "text/plain": [
       "<Figure size 432x288 with 1 Axes>"
      ]
     },
     "metadata": {
      "needs_background": "light"
     },
     "output_type": "display_data"
    },
    {
     "name": "stdout",
     "output_type": "stream",
     "text": [
      "LABEL: 9\n",
      "INPUT:\n"
     ]
    },
    {
     "data": {
      "image/png": "[encoded data removed]",
      "text/plain": [
       "<Figure size 432x288 with 1 Axes>"
      ]
     },
     "metadata": {
      "needs_background": "light"
     },
     "output_type": "display_data"
    },
    {
     "name": "stdout",
     "output_type": "stream",
     "text": [
      "LABEL: 2\n"
     ]
    }
   ],
   "source": [
    "#let's try the plotting function\n",
    "plot_input(X_train,y_train,10)\n",
    "plot_input(X_test,y_test,100)\n",
    "plot_input(X_test,y_test,1000)"
   ]
  },
  {
   "cell_type": "markdown",
   "metadata": {},
   "source": [
    "### TO DO 1\n",
    "\n",
    "Now use a feed-forward Neural Network for prediction. Use the multi-layer perceptron classifier, with the following parameters: max_iter=250, alpha=1e-4, solver='sgd', tol=1e-4, learning_rate_init=.1, random_state=ID (this last parameter ensures the run is the same even if you run it more than once). The alpha parameter is the regularization term.\n",
    "\n",
    "Then, using the default activation function, pick four or five architectures to consider, with different numbers of hidden layers and different sizes. It is not necessary to create huge neural networks, you can limit to 3 layers and, for each layer, its maximum size can be of 50. Evaluate the architectures you chose using GridSearchCV with cv=5.\n",
    "\n",
    "You can reduce the number of iterations if the running time is too long on your computer.\n"
   ]
  },
  {
   "cell_type": "code",
   "execution_count": 8,
   "metadata": {},
   "outputs": [
    {
     "name": "stdout",
     "output_type": "stream",
     "text": [
      "RESULTS FOR NN\n",
      "\n",
      "Best parameters set found:\n",
      "{'hidden_layer_sizes': (30,)}\n",
      "Score with best parameters:\n",
      "0.7766666666666666\n",
      "\n",
      "All scores on the grid:\n"
     ]
    },
    {
     "data": {
      "text/html": [
       "<div>\n",
       "<style scoped>\n",
       "    .dataframe tbody tr th:only-of-type {\n",
       "        vertical-align: middle;\n",
       "    }\n",
       "\n",
       "    .dataframe tbody tr th {\n",
       "        vertical-align: top;\n",
       "    }\n",
       "\n",
       "    .dataframe thead th {\n",
       "        text-align: right;\n",
       "    }\n",
       "</style>\n",
       "<table border=\"1\" class=\"dataframe\">\n",
       "  <thead>\n",
       "    <tr style=\"text-align: right;\">\n",
       "      <th></th>\n",
       "      <th>params</th>\n",
       "      <th>rank_test_score</th>\n",
       "      <th>mean_test_score</th>\n",
       "    </tr>\n",
       "  </thead>\n",
       "  <tbody>\n",
       "    <tr>\n",
       "      <th>0</th>\n",
       "      <td>{'hidden_layer_sizes': (10,)}</td>\n",
       "      <td>3</td>\n",
       "      <td>0.750000</td>\n",
       "    </tr>\n",
       "    <tr>\n",
       "      <th>1</th>\n",
       "      <td>{'hidden_layer_sizes': (20,)}</td>\n",
       "      <td>2</td>\n",
       "      <td>0.761667</td>\n",
       "    </tr>\n",
       "    <tr>\n",
       "      <th>2</th>\n",
       "      <td>{'hidden_layer_sizes': (30,)}</td>\n",
       "      <td>1</td>\n",
       "      <td>0.776667</td>\n",
       "    </tr>\n",
       "    <tr>\n",
       "      <th>3</th>\n",
       "      <td>{'hidden_layer_sizes': (20, 20)}</td>\n",
       "      <td>4</td>\n",
       "      <td>0.676667</td>\n",
       "    </tr>\n",
       "    <tr>\n",
       "      <th>4</th>\n",
       "      <td>{'hidden_layer_sizes': (30, 30, 20)}</td>\n",
       "      <td>5</td>\n",
       "      <td>0.366667</td>\n",
       "    </tr>\n",
       "  </tbody>\n",
       "</table>\n",
       "</div>"
      ],
      "text/plain": [
       "                                 params  rank_test_score  mean_test_score\n",
       "0         {'hidden_layer_sizes': (10,)}                3         0.750000\n",
       "1         {'hidden_layer_sizes': (20,)}                2         0.761667\n",
       "2         {'hidden_layer_sizes': (30,)}                1         0.776667\n",
       "3      {'hidden_layer_sizes': (20, 20)}                4         0.676667\n",
       "4  {'hidden_layer_sizes': (30, 30, 20)}                5         0.366667"
      ]
     },
     "execution_count": 8,
     "metadata": {},
     "output_type": "execute_result"
    }
   ],
   "source": [
    "# these are sample values but feel free to change them as you like, try to experiment with different sizes!!\n",
    "parameters = {'hidden_layer_sizes': [(10,), (20,), (30,), (20,20,), (30,30,20) ]}\n",
    "\n",
    "mlp = MLPClassifier(max_iter=250, alpha=1e-4, solver='sgd',\n",
    "                    tol=1e-4, random_state=ID,\n",
    "                    learning_rate_init=.1)\n",
    "\n",
    "grid_mlp = GridSearchCV(mlp, parameters, cv=5)\n",
    "grid_mlp.fit(X_train, y_train)\n",
    "\n",
    "print ('RESULTS FOR NN\\n')\n",
    "\n",
    "print(\"Best parameters set found:\")\n",
    "print(grid_mlp.best_params_)\n",
    "\n",
    "print(\"Score with best parameters:\")\n",
    "print(grid_mlp.best_score_)\n",
    "\n",
    "print(\"\\nAll scores on the grid:\")\n",
    "pd.DataFrame(grid_mlp.cv_results_).loc[:, ['params', 'rank_test_score', 'mean_test_score']]"
   ]
  },
  {
   "cell_type": "markdown",
   "metadata": {},
   "source": [
    "### TO DO 2\n",
    "\n",
    "Now try also different batch sizes, while keeping the best NN architecture you have found above. Remember that the batch size was previously set to the default value, i.e., min(200, n_samples). \n",
    "Recall that a batch size of 1 corresponds to baseline SGD, while using all the 480 training samples (there are 600 samples but in cross validation with 5 folders we use 1/5 of them for validation at each round) corresponds to standard GD and using a different mini-batch size lies in the middle between the two extreme cases."
   ]
  },
  {
   "cell_type": "code",
   "execution_count": 9,
   "metadata": {},
   "outputs": [
    {
     "name": "stdout",
     "output_type": "stream",
     "text": [
      "RESULTS FOR NN\n",
      "\n",
      "Best parameters set found:\n",
      "{'batch_size': 32}\n",
      "Score with best parameters:\n",
      "0.7749999999999999\n",
      "\n",
      "All scores on the grid:\n"
     ]
    },
    {
     "data": {
      "text/html": [
       "<div>\n",
       "<style scoped>\n",
       "    .dataframe tbody tr th:only-of-type {\n",
       "        vertical-align: middle;\n",
       "    }\n",
       "\n",
       "    .dataframe tbody tr th {\n",
       "        vertical-align: top;\n",
       "    }\n",
       "\n",
       "    .dataframe thead th {\n",
       "        text-align: right;\n",
       "    }\n",
       "</style>\n",
       "<table border=\"1\" class=\"dataframe\">\n",
       "  <thead>\n",
       "    <tr style=\"text-align: right;\">\n",
       "      <th></th>\n",
       "      <th>params</th>\n",
       "      <th>rank_test_score</th>\n",
       "      <th>mean_test_score</th>\n",
       "    </tr>\n",
       "  </thead>\n",
       "  <tbody>\n",
       "    <tr>\n",
       "      <th>0</th>\n",
       "      <td>{'batch_size': 1}</td>\n",
       "      <td>3</td>\n",
       "      <td>0.098333</td>\n",
       "    </tr>\n",
       "    <tr>\n",
       "      <th>1</th>\n",
       "      <td>{'batch_size': 32}</td>\n",
       "      <td>1</td>\n",
       "      <td>0.775000</td>\n",
       "    </tr>\n",
       "    <tr>\n",
       "      <th>2</th>\n",
       "      <td>{'batch_size': 480}</td>\n",
       "      <td>2</td>\n",
       "      <td>0.771667</td>\n",
       "    </tr>\n",
       "  </tbody>\n",
       "</table>\n",
       "</div>"
      ],
      "text/plain": [
       "                params  rank_test_score  mean_test_score\n",
       "0    {'batch_size': 1}                3         0.098333\n",
       "1   {'batch_size': 32}                1         0.775000\n",
       "2  {'batch_size': 480}                2         0.771667"
      ]
     },
     "execution_count": 9,
     "metadata": {},
     "output_type": "execute_result"
    }
   ],
   "source": [
    "# these are sample values corresponding to baseline SGD, a reasonable mini-batch size and standard GD\n",
    "# again feel free to change them as you like, try to experiment with different batch sizes!!\n",
    "parameters = {'batch_size': [1, 32, 480]}\n",
    "\n",
    "# need to specify that you would like to use the standard k-fold split otherwise sklearn create splits of different sizes\n",
    "kf = sklearn.model_selection.KFold(n_splits=5)\n",
    "\n",
    "best_mlp = grid_mlp.best_estimator_\n",
    "\n",
    "# recall to use cv=kf to use the k-fold subdivision seen in the lectures\n",
    "\n",
    "grid_train_mlp = GridSearchCV(best_mlp, parameters)\n",
    "grid_train_mlp.fit(X_train, y_train)\n",
    "\n",
    "print ('RESULTS FOR NN\\n')\n",
    "\n",
    "print(\"Best parameters set found:\")\n",
    "print(grid_train_mlp.best_params_)\n",
    "\n",
    "print(\"Score with best parameters:\")\n",
    "print(grid_train_mlp.best_score_)\n",
    "\n",
    "print(\"\\nAll scores on the grid:\")\n",
    "pd.DataFrame(grid_train_mlp.cv_results_).loc[:,['params', 'rank_test_score', 'mean_test_score']]"
   ]
  },
  {
   "cell_type": "markdown",
   "metadata": {},
   "source": [
    "### QUESTION 1\n",
    "\n",
    "What do you observe for different architectures and batch sizes? How do the number of layers and their sizes affect the performances? What do you observe for different batch sizes, in particular what happens to the training convergence for different batch sizes (notice that the algorithm could not converge for some batch sizes)?"
   ]
  },
  {
   "cell_type": "markdown",
   "metadata": {},
   "source": [
    "In general, we observe that increasing the number of layers leads to worse performances. The point is that we're neglecting the regularization term during the training, and hence making the architecture more complex means overfitting the data. Regarding the number of neurons for each layer, in that case adding neurons leads to better performances. Nevertheless, the behaviour is not obvious to understand since for another seed I found that, in the case of just one layer, the more complex model had the best score, but the simplest one ranked second. For what concearn the batch size (bs) for the training, in general we expect that by increasing the bs we get a more stable solution. In that case we find that bs=1 leads to a totally ineffective training, while for bs=32 we get already the best possible result, except for fluctuations that can always occur. Therefore there is no point in using bs=480, which also takes more time for the NN to be trained."
   ]
  },
  {
   "cell_type": "markdown",
   "metadata": {},
   "source": [
    "### TODO 3:\n",
    "\n",
    "Plot the train and test accuracies as a function of the number of learnable parameters in your neural network. Print also the computation time for the various configurations you try (the code for getting the computation time is already provided). You can use 300 iterations (if you get a warning on convergence not reached it is not an issue for this lab)"
   ]
  },
  {
   "cell_type": "code",
   "execution_count": 10,
   "metadata": {
    "scrolled": true
   },
   "outputs": [
    {
     "name": "stdout",
     "output_type": "stream",
     "text": [
      "Training MLP of size (10,) ...\n",
      "Done, training time: 0.83 sec\n",
      "\n",
      "Training MLP of size (20,) ...\n",
      "Done, training time: 0.74 sec\n",
      "\n",
      "Training MLP of size (30,) ...\n",
      "Done, training time: 0.88 sec\n",
      "\n",
      "Training MLP of size (30, 20) ...\n",
      "Done, training time: 0.79 sec\n",
      "\n",
      "Training MLP of size (30, 30, 20) ...\n",
      "Done, training time: 0.36 sec\n",
      "\n"
     ]
    },
    {
     "data": {
      "image/png": "[encoded data removed]",
      "text/plain": [
       "<Figure size 1080x360 with 2 Axes>"
      ]
     },
     "metadata": {
      "needs_background": "light"
     },
     "output_type": "display_data"
    }
   ],
   "source": [
    "import time\n",
    "from functools import reduce\n",
    "\n",
    "# Function to compute the number of learnable parameters of a mlp given the size of its hidden layers\n",
    "def param_count(hl_size):\n",
    "    tot = 0\n",
    "    input_size, output_size = X_train.shape[1], len(labels)\n",
    "    tot += (input_size+1)*hl_size[0]\n",
    "    for i in range(1,len(hl_size)):\n",
    "        tot += (hl_size[i-1]+1)*hl_size[i]\n",
    "    tot += (hl_size[-1]+1)*output_size\n",
    "    return tot\n",
    "\n",
    "hl_sizes = [(10,), (20,), (30,), (30,20,), (30,30,20)]\n",
    "hl_labels = [param_count(t) for t in hl_sizes]\n",
    "\n",
    "ti = time.time()\n",
    "train_acc_list, test_acc_list = [], []\n",
    "for hl_size in hl_sizes:\n",
    "    print('Training MLP of size {} ...'.format(hl_size))\n",
    "    mlp = MLPClassifier(hidden_layer_sizes=hl_size, max_iter=600, alpha=1e-4, solver='sgd',\n",
    "                    tol=1e-4, random_state=ID,\n",
    "                    learning_rate_init=.1)\n",
    "    \n",
    "    mlp.fit(X_train, y_train)\n",
    "    \n",
    "    train_acc_list.append(mlp.score(X_train, y_train))\n",
    "    test_acc_list.append(mlp.score(X_test, y_test))\n",
    "    print('Done, training time: {:.2f} sec\\n'.format(time.time()-ti))\n",
    "    ti = time.time()\n",
    "\n",
    "fig, ax = plt.subplots(1,2, figsize=(15,5))\n",
    "\n",
    "\n",
    "ax[0].plot(train_acc_list)\n",
    "ax[0].set_xlabel('Number of learnable params')\n",
    "ax[0].set_title('Train accuracy')\n",
    "ax[0].set_xticks(np.arange(0,len(hl_labels)))\n",
    "ax[0].set_xticklabels(hl_labels)\n",
    "ax[0].grid(True)\n",
    "\n",
    "ax[1].plot(test_acc_list)\n",
    "ax[1].set_xlabel('Number of learnable params')\n",
    "ax[1].set_title('Test accuracy')\n",
    "ax[1].set_xticks(np.arange(0,len(hl_labels)))\n",
    "ax[1].set_xticklabels(hl_labels)\n",
    "ax[1].grid(True)\n"
   ]
  },
  {
   "cell_type": "markdown",
   "metadata": {},
   "source": [
    "## Question 2:\n",
    "\n",
    "Comment about the training and test accuracies referring to the discussion on underfitting and overfitting we did in the course"
   ]
  },
  {
   "cell_type": "markdown",
   "metadata": {},
   "source": [
    "We observe that already for the simplest model the train accuracy saturates at 1, and thus the model overfits the training set. The test set, instead, reaches the best score at a compromise between a too simple model and a too complex one, which corresponds to the configuration (30,). Quite unexpectedly, the training error drops down for the most complex model, even if the training procedure has converged. This should not happen, because we know that the more learnable parameters we have, the more the accuracy over the test set should approach 1. I don't have an explaination for this behaviour, since I tried with different seeds and I got always the same result."
   ]
  },
  {
   "cell_type": "markdown",
   "metadata": {},
   "source": [
    "### TO DO 4\n",
    "\n",
    "Now try also to use different learning rates, while keeping the best NN architecture and batch size you have found above. Plot the learning curves (i.e., the variation of the loss over the steps, you can get it from the loss_curve_ object of sklearn) for the different values of the learning rate. Try to run each training for 600 iterations. "
   ]
  },
  {
   "cell_type": "code",
   "execution_count": 11,
   "metadata": {},
   "outputs": [
    {
     "name": "stderr",
     "output_type": "stream",
     "text": [
      "/home/lorenzo/anaconda3/lib/python3.8/site-packages/sklearn/neural_network/_multilayer_perceptron.py:582: ConvergenceWarning: Stochastic Optimizer: Maximum iterations (800) reached and the optimization hasn't converged yet.\n",
      "  warnings.warn(\n"
     ]
    },
    {
     "name": "stdout",
     "output_type": "stream",
     "text": [
      "RESULTS FOR NN\n",
      "\n",
      "Best parameters set found:\n",
      "0.001\n",
      "Score with best parameters:\n",
      "0.781\n"
     ]
    },
    {
     "data": {
      "image/png": "[encoded data removed]",
      "text/plain": [
       "<Figure size 432x288 with 1 Axes>"
      ]
     },
     "metadata": {
      "needs_background": "light"
     },
     "output_type": "display_data"
    }
   ],
   "source": [
    "import matplotlib.pyplot as plt\n",
    "import operator\n",
    "from sklearn.model_selection import learning_curve\n",
    "\n",
    "lr_list = [10**exp for exp in range(-3,1)]\n",
    "scores = np.array([])\n",
    "mlp = MLPClassifier(hidden_layer_sizes=(30,), max_iter=800, alpha=1e-4, solver='sgd',\n",
    "                    tol=1e-4, random_state=ID, batch_size=32)\n",
    "for lr in lr_list:\n",
    "    mlp.set_params(learning_rate_init=lr)\n",
    "    mlp.fit(X_train, y_train)\n",
    "    scores = np.append(scores, mlp.score(X_test, y_test))\n",
    "    plt.plot(mlp.loss_curve_, label='lr = {:.3f}'.format(lr))\n",
    "plt.xlabel('Steps')\n",
    "plt.ylabel('Score')\n",
    "plt.legend(loc='best')\n",
    "best_index = np.argmax(scores)\n",
    "\n",
    "print ('RESULTS FOR NN\\n')\n",
    "\n",
    "print(\"Best parameters set found:\")\n",
    "print(lr_list[best_index])\n",
    "\n",
    "print(\"Score with best parameters:\")\n",
    "print(scores[best_index])\n"
   ]
  },
  {
   "cell_type": "markdown",
   "metadata": {},
   "source": [
    "### QUESTION 3\n",
    "\n",
    "Comment about the learning curves (i.e. the variation of the loss over the steps). How does the curve changes for different learning rates in terms of stability and speed of convergence ?"
   ]
  },
  {
   "cell_type": "markdown",
   "metadata": {},
   "source": [
    "By increasing the learning rate the convergence is faster, but also more unstable (as we can see from the \"spikes\" of the green curve). A learning rate of 0.001 in this case is not sufficient to get convergence within 800 iterations. I also tried with a learning rate of 1, which is way too large and leads to a very poor result. The best compromise is found for lr=0.01"
   ]
  },
  {
   "cell_type": "markdown",
   "metadata": {},
   "source": [
    "### TO DO 5\n",
    "\n",
    "Now get training and test error for a NN with best parameters (architecture, batch size and learning rate) from above. Plot the learning curve also for this case."
   ]
  },
  {
   "cell_type": "code",
   "execution_count": 12,
   "metadata": {
    "scrolled": true
   },
   "outputs": [
    {
     "name": "stdout",
     "output_type": "stream",
     "text": [
      "\n",
      "RESULTS FOR BEST NN\n",
      "\n",
      "Best NN training error: 0.000000\n",
      "Best NN test error: 0.220000\n"
     ]
    },
    {
     "data": {
      "text/plain": [
       "Text(0, 0.5, 'Score')"
      ]
     },
     "execution_count": 12,
     "metadata": {},
     "output_type": "execute_result"
    },
    {
     "data": {
      "image/png": "[encoded data removed]",
      "text/plain": [
       "<Figure size 432x288 with 1 Axes>"
      ]
     },
     "metadata": {
      "needs_background": "light"
     },
     "output_type": "display_data"
    }
   ],
   "source": [
    "#get training and test error for the best NN model from CV\n",
    "\n",
    "mlp_600 = MLPClassifier(hidden_layer_sizes=(30,), max_iter=800, alpha=1e-4, solver='sgd',\n",
    "                    tol=1e-4, random_state=ID, batch_size=32, learning_rate_init=0.01)\n",
    "mlp_600.fit(X_train, y_train)\n",
    "training_error = 1 - mlp_600.score(X_train, y_train)\n",
    "test_error = 1 - mlp_600.score(X_test, y_test)\n",
    "\n",
    "print ('\\nRESULTS FOR BEST NN\\n')\n",
    "\n",
    "print (\"Best NN training error: %f\" % training_error)\n",
    "print (\"Best NN test error: %f\" % test_error)\n",
    "\n",
    "plt.plot(mlp_600.loss_curve_)\n",
    "plt.xlabel('Steps')\n",
    "plt.ylabel('Score')"
   ]
  },
  {
   "cell_type": "markdown",
   "metadata": {},
   "source": [
    "## More data \n",
    "Now let's do the same but using 4000 (or less if it takes too long on your machine) data points for training. Use the same NN architecture as before, but you can try more if you like and have a powerful computer!!"
   ]
  },
  {
   "cell_type": "code",
   "execution_count": 13,
   "metadata": {},
   "outputs": [
    {
     "name": "stdout",
     "output_type": "stream",
     "text": [
      "Labels in training dataset:  [0 1 2 3 4 5 6 7 8 9]\n",
      "Frequencies in training dataset:  [408 426 392 415 400 382 409 390 385 393]\n"
     ]
    }
   ],
   "source": [
    "X = X[permutation]\n",
    "y = y[permutation]\n",
    "\n",
    "m_training = 4000\n",
    "\n",
    "X_train, X_test = X[:m_training], X[m_training:]\n",
    "y_train, y_test = y[:m_training], y[m_training:]\n",
    "\n",
    "labels, freqs = np.unique(y_train, return_counts=True)\n",
    "print(\"Labels in training dataset: \", labels)\n",
    "print(\"Frequencies in training dataset: \", freqs)"
   ]
  },
  {
   "cell_type": "markdown",
   "metadata": {},
   "source": [
    "### TO DO 6\n",
    "\n",
    "Now train the NNs with the added data points using the optimum parameters found above. Eventually, feel free to try different architectures if you like. We suggest that you use 'verbose=True' so have an idea of how long it takes to run 1 iteration (eventually reduce also the number of iterations to 50)."
   ]
  },
  {
   "cell_type": "code",
   "execution_count": 14,
   "metadata": {},
   "outputs": [
    {
     "name": "stdout",
     "output_type": "stream",
     "text": [
      "\n",
      "RESULTS FOR NN\n",
      "\n",
      "NN training error: 0.000000\n",
      "NN test error: 0.176125\n"
     ]
    }
   ],
   "source": [
    "# use best architecture and params from before\n",
    "\n",
    "mlp_4000 = MLPClassifier(hidden_layer_sizes=(30,), max_iter=600, alpha=1e-4, solver='sgd',\n",
    "                    tol=1e-4, random_state=ID, batch_size=32, learning_rate_init=0.01, verbose=False)\n",
    "mlp_4000.fit(X_train, y_train)\n",
    "\n",
    "print ('\\nRESULTS FOR NN\\n')\n",
    "\n",
    "#get training and test error for the NN\n",
    "\n",
    "training_error = 1 - mlp_4000.score(X_train, y_train)\n",
    "test_error = 1 - mlp_4000.score(X_test, y_test)\n",
    "\n",
    "print (\"NN training error: %f\" % training_error)\n",
    "print (\"NN test error: %f\" % test_error)\n"
   ]
  },
  {
   "cell_type": "markdown",
   "metadata": {},
   "source": [
    "## QUESTION 4\n",
    "Compare the train and test error you got with a large number of samples with the best one you obtained with only 600 data points. Comment about the results you obtained."
   ]
  },
  {
   "cell_type": "markdown",
   "metadata": {},
   "source": [
    "In both cases we find that the training error is \"zero\" (i.e. negligible) and in the case of the larger training set we find a test error which is smaller than before. This improvement is due to a larger training set, which makes the model more robust."
   ]
  },
  {
   "cell_type": "markdown",
   "metadata": {},
   "source": [
    "### TO DO 7\n",
    "\n",
    "Plot an example that was missclassified by NN with m=600 training data points and it is now instead correctly classified by NN with m=4000 training data points."
   ]
  },
  {
   "cell_type": "code",
   "execution_count": 15,
   "metadata": {},
   "outputs": [
    {
     "name": "stdout",
     "output_type": "stream",
     "text": [
      "INPUT:\n"
     ]
    },
    {
     "data": {
      "image/png": "[encoded data removed]",
      "text/plain": [
       "<Figure size 432x288 with 1 Axes>"
      ]
     },
     "metadata": {
      "needs_background": "light"
     },
     "output_type": "display_data"
    },
    {
     "name": "stdout",
     "output_type": "stream",
     "text": [
      "LABEL: 5\n"
     ]
    }
   ],
   "source": [
    "NN_prediction = mlp_600.predict(X_train)\n",
    "large_NN_prediction = mlp_4000.predict(X_train)\n",
    "\n",
    "correct_4000 = large_NN_prediction == y_train\n",
    "wrong_600 = NN_prediction == y_train\n",
    "index = 0\n",
    "for i, obj in enumerate(correct_4000):\n",
    "    if obj == wrong_600[i]:\n",
    "        indez = i\n",
    "        break\n",
    "plot_input(X_train, y_train, index)    "
   ]
  },
  {
   "cell_type": "markdown",
   "metadata": {},
   "source": [
    "### TO DO 8\n",
    "\n",
    "Let's plot the weigths of the multi-layer perceptron classifier, for the best NN we get with 600 data points and with 4000 data points. The code is already provided, just fix variable names (e.g., replace mlp , mlp_large with your estimators) in order to have it working with your implementation\n",
    "\n"
   ]
  },
  {
   "cell_type": "code",
   "execution_count": 16,
   "metadata": {},
   "outputs": [
    {
     "name": "stdout",
     "output_type": "stream",
     "text": [
      "Weights with 600 data points:\n"
     ]
    },
    {
     "data": {
      "image/png": "[encoded data removed]",
      "text/plain": [
       "<Figure size 432x288 with 16 Axes>"
      ]
     },
     "metadata": {},
     "output_type": "display_data"
    },
    {
     "name": "stdout",
     "output_type": "stream",
     "text": [
      "Weights with 4000 data points:\n"
     ]
    },
    {
     "data": {
      "image/png": "[encoded data removed]",
      "text/plain": [
       "<Figure size 432x288 with 16 Axes>"
      ]
     },
     "metadata": {},
     "output_type": "display_data"
    }
   ],
   "source": [
    "print(\"Weights with 600 data points:\")\n",
    "\n",
    "fig, axes = plt.subplots(4, 4)\n",
    "vmin, vmax = mlp_600.coefs_[0].min(), mlp_600.coefs_[0].max()\n",
    "for coef, ax in zip(mlp_600.coefs_[0].T, axes.ravel()):\n",
    "    ax.matshow(coef.reshape(28, 28), cmap=plt.cm.gray, vmin=.5 * vmin,\n",
    "               vmax=.5 * vmax)\n",
    "    ax.set_xticks(())\n",
    "    ax.set_yticks(())\n",
    "\n",
    "plt.show()\n",
    "\n",
    "print(\"Weights with 4000 data points:\")\n",
    "\n",
    "fig, axes = plt.subplots(4, 4)\n",
    "vmin, vmax = mlp_4000.coefs_[0].min(), mlp_4000.coefs_[0].max()\n",
    "for coef, ax in zip(mlp_4000.coefs_[0].T, axes.ravel()):\n",
    "    ax.matshow(coef.reshape(28, 28), cmap=plt.cm.gray, vmin=.5 * vmin,\n",
    "               vmax=.5 * vmax)\n",
    "    ax.set_xticks(())\n",
    "    ax.set_yticks(())\n",
    "plt.show()"
   ]
  },
  {
   "cell_type": "markdown",
   "metadata": {},
   "source": [
    "## QUESTION 5\n",
    "\n",
    "Describe what do you observe by looking at the weights."
   ]
  },
  {
   "cell_type": "markdown",
   "metadata": {},
   "source": [
    "The image of the NN trained with 4000 samples in some cases has more defined edges wiht respect to the one with 600 samples. Sometimes it is also possible to recognize, a shape that reminds the clothes profile"
   ]
  },
  {
   "cell_type": "markdown",
   "metadata": {},
   "source": [
    "### TO DO 9\n",
    "\n",
    "Take the best SVM model and its parameters, you found in the last notebook. Fit it on a few data points and compute its training and test scores. Then fit also a logistic regression model with C=1. "
   ]
  },
  {
   "cell_type": "code",
   "execution_count": 17,
   "metadata": {},
   "outputs": [
    {
     "name": "stdout",
     "output_type": "stream",
     "text": [
      "RESULTS FOR SVM\n",
      "Training score SVM:\n",
      "0.06474999999999997\n",
      "Test score SVM:\n",
      "0.15100000000000002\n"
     ]
    }
   ],
   "source": [
    "m_training = 4000\n",
    "\n",
    "X_train, X_test = X[:m_training], X[m_training:2*m_training]\n",
    "y_train, y_test = y[:m_training], y[m_training:2*m_training]\n",
    "\n",
    "# use best parameters found in the SVM notebook, create SVM and perform fitting\n",
    "\n",
    "svm = SVC(C=5, gamma=0.005, kernel='rbf')\n",
    "svm.fit(X_train, y_train)\n",
    "\n",
    "print ('RESULTS FOR SVM')\n",
    "\n",
    "SVM_training_error =  1 - svm.score(X_train, y_train)\n",
    "\n",
    "print(\"Training score SVM:\")\n",
    "print(SVM_training_error)\n",
    "\n",
    "SVM_test_error = 1 - svm.score(X_test, y_test)\n",
    "print(\"Test score SVM:\")\n",
    "print(SVM_test_error)"
   ]
  },
  {
   "cell_type": "code",
   "execution_count": 18,
   "metadata": {},
   "outputs": [
    {
     "name": "stdout",
     "output_type": "stream",
     "text": [
      "\n",
      "RESULTS FOR LOGISTIC REGRESSION WITH REGULARIZATION\n",
      "Training error (reg): 0.039750\n",
      "Test error (reg): 0.185250\n"
     ]
    }
   ],
   "source": [
    "from sklearn import linear_model\n",
    "\n",
    "regL2 = linear_model.LogisticRegression(C=1, max_iter=1000)\n",
    "\n",
    "# you can re-use your code from Lab 2\n",
    "\n",
    "regL2.fit(X_train, y_train)\n",
    "\n",
    "print ('\\nRESULTS FOR LOGISTIC REGRESSION WITH REGULARIZATION')\n",
    "\n",
    "training_error =  1 - regL2.score(X_train, y_train)\n",
    "test_error =  1 - regL2.score(X_test, y_test)\n",
    "\n",
    "print (\"Training error (reg): %f\" % training_error)\n",
    "print (\"Test error (reg): %f\" % test_error)"
   ]
  },
  {
   "cell_type": "markdown",
   "metadata": {
    "collapsed": true
   },
   "source": [
    "## QUESTION 6\n",
    "Compare the results of Logistic Regression, SVM and NN. Which one achieve the best results? "
   ]
  },
  {
   "cell_type": "markdown",
   "metadata": {},
   "source": [
    "In order of performances we have: 1) SVM, 2) NN, 3) logistic regression. In terms of time required for the training we have (ascending order): 1) logistic regression, 2) SVM, 3) NN. In that case the best compromise is therefore given by the SVM model. In order to get better performances we have to look for deep network, such as CNN."
   ]
  },
  {
   "cell_type": "code",
   "execution_count": null,
   "metadata": {},
   "outputs": [],
   "source": []
  }
 ],
 "metadata": {
  "kernelspec": {
   "display_name": "Python 3",
   "language": "python",
   "name": "python3"
  },
  "language_info": {
   "codemirror_mode": {
    "name": "ipython",
    "version": 3
   },
   "file_extension": ".py",
   "mimetype": "text/x-python",
   "name": "python",
   "nbconvert_exporter": "python",
   "pygments_lexer": "ipython3",
   "version": "3.8.5"
  }
 },
 "nbformat": 4,
 "nbformat_minor": 2
}
